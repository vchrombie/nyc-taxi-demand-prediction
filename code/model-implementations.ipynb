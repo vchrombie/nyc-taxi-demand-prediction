{
 "cells": [
  {
   "cell_type": "code",
   "execution_count": 1,
   "id": "8fd65682",
   "metadata": {},
   "outputs": [],
   "source": [
    "import time"
   ]
  },
  {
   "cell_type": "code",
   "execution_count": 2,
   "id": "48874e8c",
   "metadata": {},
   "outputs": [],
   "source": [
    "import os\n",
    "import pyspark"
   ]
  },
  {
   "cell_type": "code",
   "execution_count": 3,
   "id": "016b6bfe",
   "metadata": {},
   "outputs": [
    {
     "name": "stderr",
     "output_type": "stream",
     "text": [
      "Setting default log level to \"WARN\".\n",
      "To adjust logging level use sc.setLogLevel(newLevel). For SparkR, use setLogLevel(newLevel).\n"
     ]
    },
    {
     "name": "stdout",
     "output_type": "stream",
     "text": [
      "23/05/09 15:17:15 WARN NativeCodeLoader: Unable to load native-hadoop library for your platform... using builtin-java classes where applicable\n"
     ]
    },
    {
     "data": {
      "text/html": [
       "\n",
       "            <div>\n",
       "                <p><b>SparkSession - in-memory</b></p>\n",
       "                \n",
       "        <div>\n",
       "            <p><b>SparkContext</b></p>\n",
       "\n",
       "            <p><a href=\"http://jupyter-vt2182:4040\">Spark UI</a></p>\n",
       "\n",
       "            <dl>\n",
       "              <dt>Version</dt>\n",
       "                <dd><code>v3.3.1</code></dd>\n",
       "              <dt>Master</dt>\n",
       "                <dd><code>local[*]</code></dd>\n",
       "              <dt>AppName</dt>\n",
       "                <dd><code>pyspark-shell</code></dd>\n",
       "            </dl>\n",
       "        </div>\n",
       "        \n",
       "            </div>\n",
       "        "
      ],
      "text/plain": [
       "<pyspark.sql.session.SparkSession at 0x7f7b9c557550>"
      ]
     },
     "execution_count": 3,
     "metadata": {},
     "output_type": "execute_result"
    }
   ],
   "source": [
    "conf = pyspark.SparkConf()\n",
    "conf.set('spark.ui.proxyBase', '/user/' + os.environ['JUPYTERHUB_USER'] + '/proxy/4040')\n",
    "\n",
    "sc = pyspark.SparkContext(conf=conf)\n",
    "spark = pyspark.sql.SparkSession(sc)\n",
    "spark"
   ]
  },
  {
   "cell_type": "code",
   "execution_count": null,
   "id": "616c4ce3",
   "metadata": {},
   "outputs": [],
   "source": []
  },
  {
   "cell_type": "markdown",
   "id": "92c100cc",
   "metadata": {},
   "source": [
    "From the schema, the following features could be relevant for predicting the taxi fare:\n",
    "\n",
    "- `trip_distance`: The distance of the trip is likely to be a strong predictor of the fare.\n",
    "- `RatecodeID`: Different rate codes could correspond to different fare structures.\n",
    "- `PULocationID` and `DOLocationID`: The pickup and dropoff locations could affect the fare.\n",
    "- `pickup_hour`, `pickup_day`, `pickup_day_of_week`, `pickup_month`: The time of pickup could affect the fare, due to factors like traffic and surge pricing.\n",
    "- `passenger_count`: It's unlikely that the number of passengers would directly affect the fare for a standard taxi ride, but it's possible that rides with many passengers are more likely to be longer trips, for example.\n",
    "- `extra`, `mta_tax`, `tolls_amount`, `improvement_surcharge`, `congestion_surcharge`, `airport_fee`: These are likely to be components of the total fare and may be useful predictors.\n",
    "\n",
    "- `fare_amount` is our target variable.\n",
    "\n"
   ]
  },
  {
   "cell_type": "markdown",
   "id": "a31cb1b3",
   "metadata": {},
   "source": [
    "We will compare the performance of machine learning models on the NYC taxi dataset using scikit-learn (normal Python implementation), PySpark, and Dask.\n",
    "\n",
    "We will build a simple linear regression model to predict the `fare_amount` based on `trip_distance`."
   ]
  },
  {
   "cell_type": "code",
   "execution_count": null,
   "id": "c5690747",
   "metadata": {},
   "outputs": [],
   "source": []
  },
  {
   "cell_type": "markdown",
   "id": "1c4883c0",
   "metadata": {},
   "source": [
    "# Scikit-learn (Python) Implementation"
   ]
  },
  {
   "cell_type": "code",
   "execution_count": 4,
   "id": "82e74ede",
   "metadata": {},
   "outputs": [],
   "source": [
    "start_time = time.time()"
   ]
  },
  {
   "cell_type": "code",
   "execution_count": 5,
   "id": "b120ac53",
   "metadata": {},
   "outputs": [
    {
     "data": {
      "text/html": [
       "<div>\n",
       "<style scoped>\n",
       "    .dataframe tbody tr th:only-of-type {\n",
       "        vertical-align: middle;\n",
       "    }\n",
       "\n",
       "    .dataframe tbody tr th {\n",
       "        vertical-align: top;\n",
       "    }\n",
       "\n",
       "    .dataframe thead th {\n",
       "        text-align: right;\n",
       "    }\n",
       "</style>\n",
       "<table border=\"1\" class=\"dataframe\">\n",
       "  <thead>\n",
       "    <tr style=\"text-align: right;\">\n",
       "      <th></th>\n",
       "      <th>VendorID</th>\n",
       "      <th>tpep_pickup_datetime</th>\n",
       "      <th>tpep_dropoff_datetime</th>\n",
       "      <th>passenger_count</th>\n",
       "      <th>trip_distance</th>\n",
       "      <th>RatecodeID</th>\n",
       "      <th>store_and_fwd_flag</th>\n",
       "      <th>PULocationID</th>\n",
       "      <th>DOLocationID</th>\n",
       "      <th>payment_type</th>\n",
       "      <th>...</th>\n",
       "      <th>pickup_year</th>\n",
       "      <th>pickup_month</th>\n",
       "      <th>pickup_day</th>\n",
       "      <th>pickup_hour</th>\n",
       "      <th>pickup_day_of_week</th>\n",
       "      <th>dropoff_year</th>\n",
       "      <th>dropoff_month</th>\n",
       "      <th>dropoff_day</th>\n",
       "      <th>dropoff_hour</th>\n",
       "      <th>dropoff_day_of_week</th>\n",
       "    </tr>\n",
       "  </thead>\n",
       "  <tbody>\n",
       "    <tr>\n",
       "      <th>0</th>\n",
       "      <td>2</td>\n",
       "      <td>2022-12-03 19:14:47</td>\n",
       "      <td>2022-12-03 19:31:51</td>\n",
       "      <td>1.0</td>\n",
       "      <td>3.37</td>\n",
       "      <td>1.0</td>\n",
       "      <td>N</td>\n",
       "      <td>143</td>\n",
       "      <td>152</td>\n",
       "      <td>1</td>\n",
       "      <td>...</td>\n",
       "      <td>2022</td>\n",
       "      <td>12</td>\n",
       "      <td>3</td>\n",
       "      <td>19</td>\n",
       "      <td>7</td>\n",
       "      <td>2022</td>\n",
       "      <td>12</td>\n",
       "      <td>3</td>\n",
       "      <td>19</td>\n",
       "      <td>7</td>\n",
       "    </tr>\n",
       "    <tr>\n",
       "      <th>1</th>\n",
       "      <td>2</td>\n",
       "      <td>2022-12-01 11:55:12</td>\n",
       "      <td>2022-12-01 12:18:01</td>\n",
       "      <td>6.0</td>\n",
       "      <td>1.00</td>\n",
       "      <td>1.0</td>\n",
       "      <td>N</td>\n",
       "      <td>100</td>\n",
       "      <td>230</td>\n",
       "      <td>2</td>\n",
       "      <td>...</td>\n",
       "      <td>2022</td>\n",
       "      <td>12</td>\n",
       "      <td>1</td>\n",
       "      <td>11</td>\n",
       "      <td>5</td>\n",
       "      <td>2022</td>\n",
       "      <td>12</td>\n",
       "      <td>1</td>\n",
       "      <td>12</td>\n",
       "      <td>5</td>\n",
       "    </tr>\n",
       "    <tr>\n",
       "      <th>2</th>\n",
       "      <td>1</td>\n",
       "      <td>2022-12-12 15:54:24</td>\n",
       "      <td>2022-12-12 15:59:52</td>\n",
       "      <td>1.0</td>\n",
       "      <td>1.90</td>\n",
       "      <td>1.0</td>\n",
       "      <td>N</td>\n",
       "      <td>236</td>\n",
       "      <td>74</td>\n",
       "      <td>1</td>\n",
       "      <td>...</td>\n",
       "      <td>2022</td>\n",
       "      <td>12</td>\n",
       "      <td>12</td>\n",
       "      <td>15</td>\n",
       "      <td>2</td>\n",
       "      <td>2022</td>\n",
       "      <td>12</td>\n",
       "      <td>12</td>\n",
       "      <td>15</td>\n",
       "      <td>2</td>\n",
       "    </tr>\n",
       "    <tr>\n",
       "      <th>3</th>\n",
       "      <td>1</td>\n",
       "      <td>2022-12-20 05:34:23</td>\n",
       "      <td>2022-12-20 06:14:12</td>\n",
       "      <td>1.0</td>\n",
       "      <td>0.10</td>\n",
       "      <td>99.0</td>\n",
       "      <td>N</td>\n",
       "      <td>242</td>\n",
       "      <td>242</td>\n",
       "      <td>1</td>\n",
       "      <td>...</td>\n",
       "      <td>2022</td>\n",
       "      <td>12</td>\n",
       "      <td>20</td>\n",
       "      <td>5</td>\n",
       "      <td>3</td>\n",
       "      <td>2022</td>\n",
       "      <td>12</td>\n",
       "      <td>20</td>\n",
       "      <td>6</td>\n",
       "      <td>3</td>\n",
       "    </tr>\n",
       "    <tr>\n",
       "      <th>4</th>\n",
       "      <td>2</td>\n",
       "      <td>2022-12-10 03:59:40</td>\n",
       "      <td>2022-12-10 04:07:27</td>\n",
       "      <td>1.0</td>\n",
       "      <td>1.99</td>\n",
       "      <td>1.0</td>\n",
       "      <td>N</td>\n",
       "      <td>24</td>\n",
       "      <td>236</td>\n",
       "      <td>1</td>\n",
       "      <td>...</td>\n",
       "      <td>2022</td>\n",
       "      <td>12</td>\n",
       "      <td>10</td>\n",
       "      <td>3</td>\n",
       "      <td>7</td>\n",
       "      <td>2022</td>\n",
       "      <td>12</td>\n",
       "      <td>10</td>\n",
       "      <td>4</td>\n",
       "      <td>7</td>\n",
       "    </tr>\n",
       "  </tbody>\n",
       "</table>\n",
       "<p>5 rows × 29 columns</p>\n",
       "</div>"
      ],
      "text/plain": [
       "   VendorID tpep_pickup_datetime tpep_dropoff_datetime  passenger_count  \\\n",
       "0         2  2022-12-03 19:14:47   2022-12-03 19:31:51              1.0   \n",
       "1         2  2022-12-01 11:55:12   2022-12-01 12:18:01              6.0   \n",
       "2         1  2022-12-12 15:54:24   2022-12-12 15:59:52              1.0   \n",
       "3         1  2022-12-20 05:34:23   2022-12-20 06:14:12              1.0   \n",
       "4         2  2022-12-10 03:59:40   2022-12-10 04:07:27              1.0   \n",
       "\n",
       "   trip_distance  RatecodeID store_and_fwd_flag  PULocationID  DOLocationID  \\\n",
       "0           3.37         1.0                  N           143           152   \n",
       "1           1.00         1.0                  N           100           230   \n",
       "2           1.90         1.0                  N           236            74   \n",
       "3           0.10        99.0                  N           242           242   \n",
       "4           1.99         1.0                  N            24           236   \n",
       "\n",
       "   payment_type  ...  pickup_year  pickup_month  pickup_day  pickup_hour  \\\n",
       "0             1  ...         2022            12           3           19   \n",
       "1             2  ...         2022            12           1           11   \n",
       "2             1  ...         2022            12          12           15   \n",
       "3             1  ...         2022            12          20            5   \n",
       "4             1  ...         2022            12          10            3   \n",
       "\n",
       "   pickup_day_of_week  dropoff_year  dropoff_month  dropoff_day  dropoff_hour  \\\n",
       "0                   7          2022             12            3            19   \n",
       "1                   5          2022             12            1            12   \n",
       "2                   2          2022             12           12            15   \n",
       "3                   3          2022             12           20             6   \n",
       "4                   7          2022             12           10             4   \n",
       "\n",
       "   dropoff_day_of_week  \n",
       "0                    7  \n",
       "1                    5  \n",
       "2                    2  \n",
       "3                    3  \n",
       "4                    7  \n",
       "\n",
       "[5 rows x 29 columns]"
      ]
     },
     "execution_count": 5,
     "metadata": {},
     "output_type": "execute_result"
    }
   ],
   "source": [
    "import pandas as pd\n",
    "from sklearn.model_selection import train_test_split\n",
    "from sklearn.linear_model import LinearRegression\n",
    "from sklearn.metrics import mean_squared_error\n",
    "\n",
    "\n",
    "# Load the data into a pandas DataFrame\n",
    "df_python = pd.read_parquet('../data/yellow_tripdata_processed.parquet')\n",
    "df_python.head()"
   ]
  },
  {
   "cell_type": "code",
   "execution_count": 6,
   "id": "11e4630d",
   "metadata": {},
   "outputs": [
    {
     "name": "stdout",
     "output_type": "stream",
     "text": [
      "MSE: 64.60138133038457\n"
     ]
    }
   ],
   "source": [
    "# Prepare the data for modeling\n",
    "X = df_python[['trip_distance']]\n",
    "y = df_python['fare_amount']\n",
    "\n",
    "# Split the data into training and testing sets\n",
    "X_train, X_test, y_train, y_test = train_test_split(X, y, test_size=0.2, random_state=42)\n",
    "\n",
    "\n",
    "# Train a linear regression model\n",
    "model_python = LinearRegression()\n",
    "model_python.fit(X_train, y_train)\n",
    "\n",
    "\n",
    "# Evaluate the model\n",
    "predictions_python = model_python.predict(X_test)\n",
    "\n",
    "# Check the model performance\n",
    "print(f'MSE: {mean_squared_error(y_test, predictions_python)}')"
   ]
  },
  {
   "cell_type": "code",
   "execution_count": 7,
   "id": "51ce07c4",
   "metadata": {},
   "outputs": [
    {
     "name": "stdout",
     "output_type": "stream",
     "text": [
      "Time taken by Python implementation:  2.3027284145355225 seconds\n"
     ]
    }
   ],
   "source": [
    "end_time = time.time()\n",
    "\n",
    "print('Time taken by Python implementation: ', end_time - start_time, 'seconds')"
   ]
  },
  {
   "cell_type": "code",
   "execution_count": null,
   "id": "279c5b15",
   "metadata": {},
   "outputs": [],
   "source": []
  },
  {
   "cell_type": "markdown",
   "id": "6da0b2c7",
   "metadata": {},
   "source": [
    "# PySpark Implementation"
   ]
  },
  {
   "cell_type": "code",
   "execution_count": 8,
   "id": "8aa293d0",
   "metadata": {},
   "outputs": [],
   "source": [
    "start_time = time.time()"
   ]
  },
  {
   "cell_type": "code",
   "execution_count": 9,
   "id": "cfe7d03a",
   "metadata": {},
   "outputs": [
    {
     "name": "stderr",
     "output_type": "stream",
     "text": [
      "                                                                                \r"
     ]
    }
   ],
   "source": [
    "from pyspark.ml.feature import VectorAssembler\n",
    "from pyspark.ml.regression import LinearRegression\n",
    "from pyspark.ml.evaluation import RegressionEvaluator\n",
    "\n",
    "# Load the data into a PySpark DataFrame\n",
    "df_spark = spark.read.parquet('../data/yellow_tripdata_processed.parquet')"
   ]
  },
  {
   "cell_type": "code",
   "execution_count": 10,
   "id": "d4b3257c",
   "metadata": {},
   "outputs": [
    {
     "name": "stdout",
     "output_type": "stream",
     "text": [
      "23/05/09 15:18:51 WARN Instrumentation: [694d59e2] regParam is zero, which might cause numerical instability and overfitting.\n"
     ]
    },
    {
     "name": "stderr",
     "output_type": "stream",
     "text": [
      "[Stage 3:>                                                          (0 + 1) / 1]\r"
     ]
    },
    {
     "name": "stdout",
     "output_type": "stream",
     "text": [
      "MSE: 59.44400984943917\n"
     ]
    },
    {
     "name": "stderr",
     "output_type": "stream",
     "text": [
      "                                                                                \r"
     ]
    }
   ],
   "source": [
    "# Prepare the data for modeling\n",
    "assembler = VectorAssembler(inputCols=[\"trip_distance\"], outputCol=\"features\")\n",
    "df_spark = assembler.transform(df_spark)\n",
    "\n",
    "# Split the data into training and testing sets\n",
    "train_data, test_data = df_spark.randomSplit([0.8, 0.2], seed=42)\n",
    "\n",
    "\n",
    "# Train a linear regression model\n",
    "model_spark = LinearRegression(featuresCol='features', labelCol='fare_amount')\n",
    "model_spark = model_spark.fit(train_data)\n",
    "\n",
    "\n",
    "# Evaluate the model\n",
    "predictions_spark = model_spark.transform(test_data)\n",
    "evaluator = RegressionEvaluator(predictionCol=\"prediction\", labelCol=\"fare_amount\", metricName=\"mse\")\n",
    "mse_spark = evaluator.evaluate(predictions_spark)\n",
    "print(f'MSE: {mse_spark}')"
   ]
  },
  {
   "cell_type": "code",
   "execution_count": 11,
   "id": "599d1726",
   "metadata": {},
   "outputs": [
    {
     "name": "stdout",
     "output_type": "stream",
     "text": [
      "Time taken by PySpark implementation:  25.76043128967285 seconds\n"
     ]
    }
   ],
   "source": [
    "end_time = time.time()\n",
    "\n",
    "print('Time taken by PySpark implementation: ', end_time - start_time, 'seconds')"
   ]
  },
  {
   "cell_type": "code",
   "execution_count": null,
   "id": "0ec978fc",
   "metadata": {},
   "outputs": [],
   "source": []
  },
  {
   "cell_type": "markdown",
   "id": "85f726f0",
   "metadata": {},
   "source": [
    "# Dask Implementation"
   ]
  },
  {
   "cell_type": "code",
   "execution_count": 13,
   "id": "632f4221",
   "metadata": {},
   "outputs": [],
   "source": [
    "start_time = time.time()"
   ]
  },
  {
   "cell_type": "code",
   "execution_count": 12,
   "id": "e6d9cd26",
   "metadata": {},
   "outputs": [
    {
     "data": {
      "text/html": [
       "<div>\n",
       "<style scoped>\n",
       "    .dataframe tbody tr th:only-of-type {\n",
       "        vertical-align: middle;\n",
       "    }\n",
       "\n",
       "    .dataframe tbody tr th {\n",
       "        vertical-align: top;\n",
       "    }\n",
       "\n",
       "    .dataframe thead th {\n",
       "        text-align: right;\n",
       "    }\n",
       "</style>\n",
       "<table border=\"1\" class=\"dataframe\">\n",
       "  <thead>\n",
       "    <tr style=\"text-align: right;\">\n",
       "      <th></th>\n",
       "      <th>VendorID</th>\n",
       "      <th>tpep_pickup_datetime</th>\n",
       "      <th>tpep_dropoff_datetime</th>\n",
       "      <th>passenger_count</th>\n",
       "      <th>trip_distance</th>\n",
       "      <th>RatecodeID</th>\n",
       "      <th>store_and_fwd_flag</th>\n",
       "      <th>PULocationID</th>\n",
       "      <th>DOLocationID</th>\n",
       "      <th>payment_type</th>\n",
       "      <th>...</th>\n",
       "      <th>pickup_year</th>\n",
       "      <th>pickup_month</th>\n",
       "      <th>pickup_day</th>\n",
       "      <th>pickup_hour</th>\n",
       "      <th>pickup_day_of_week</th>\n",
       "      <th>dropoff_year</th>\n",
       "      <th>dropoff_month</th>\n",
       "      <th>dropoff_day</th>\n",
       "      <th>dropoff_hour</th>\n",
       "      <th>dropoff_day_of_week</th>\n",
       "    </tr>\n",
       "  </thead>\n",
       "  <tbody>\n",
       "    <tr>\n",
       "      <th>0</th>\n",
       "      <td>2</td>\n",
       "      <td>2022-12-03 19:14:47</td>\n",
       "      <td>2022-12-03 19:31:51</td>\n",
       "      <td>1.0</td>\n",
       "      <td>3.37</td>\n",
       "      <td>1.0</td>\n",
       "      <td>N</td>\n",
       "      <td>143</td>\n",
       "      <td>152</td>\n",
       "      <td>1</td>\n",
       "      <td>...</td>\n",
       "      <td>2022</td>\n",
       "      <td>12</td>\n",
       "      <td>3</td>\n",
       "      <td>19</td>\n",
       "      <td>7</td>\n",
       "      <td>2022</td>\n",
       "      <td>12</td>\n",
       "      <td>3</td>\n",
       "      <td>19</td>\n",
       "      <td>7</td>\n",
       "    </tr>\n",
       "    <tr>\n",
       "      <th>1</th>\n",
       "      <td>2</td>\n",
       "      <td>2022-12-01 11:55:12</td>\n",
       "      <td>2022-12-01 12:18:01</td>\n",
       "      <td>6.0</td>\n",
       "      <td>1.00</td>\n",
       "      <td>1.0</td>\n",
       "      <td>N</td>\n",
       "      <td>100</td>\n",
       "      <td>230</td>\n",
       "      <td>2</td>\n",
       "      <td>...</td>\n",
       "      <td>2022</td>\n",
       "      <td>12</td>\n",
       "      <td>1</td>\n",
       "      <td>11</td>\n",
       "      <td>5</td>\n",
       "      <td>2022</td>\n",
       "      <td>12</td>\n",
       "      <td>1</td>\n",
       "      <td>12</td>\n",
       "      <td>5</td>\n",
       "    </tr>\n",
       "    <tr>\n",
       "      <th>2</th>\n",
       "      <td>1</td>\n",
       "      <td>2022-12-12 15:54:24</td>\n",
       "      <td>2022-12-12 15:59:52</td>\n",
       "      <td>1.0</td>\n",
       "      <td>1.90</td>\n",
       "      <td>1.0</td>\n",
       "      <td>N</td>\n",
       "      <td>236</td>\n",
       "      <td>74</td>\n",
       "      <td>1</td>\n",
       "      <td>...</td>\n",
       "      <td>2022</td>\n",
       "      <td>12</td>\n",
       "      <td>12</td>\n",
       "      <td>15</td>\n",
       "      <td>2</td>\n",
       "      <td>2022</td>\n",
       "      <td>12</td>\n",
       "      <td>12</td>\n",
       "      <td>15</td>\n",
       "      <td>2</td>\n",
       "    </tr>\n",
       "    <tr>\n",
       "      <th>3</th>\n",
       "      <td>1</td>\n",
       "      <td>2022-12-20 05:34:23</td>\n",
       "      <td>2022-12-20 06:14:12</td>\n",
       "      <td>1.0</td>\n",
       "      <td>0.10</td>\n",
       "      <td>99.0</td>\n",
       "      <td>N</td>\n",
       "      <td>242</td>\n",
       "      <td>242</td>\n",
       "      <td>1</td>\n",
       "      <td>...</td>\n",
       "      <td>2022</td>\n",
       "      <td>12</td>\n",
       "      <td>20</td>\n",
       "      <td>5</td>\n",
       "      <td>3</td>\n",
       "      <td>2022</td>\n",
       "      <td>12</td>\n",
       "      <td>20</td>\n",
       "      <td>6</td>\n",
       "      <td>3</td>\n",
       "    </tr>\n",
       "    <tr>\n",
       "      <th>4</th>\n",
       "      <td>2</td>\n",
       "      <td>2022-12-10 03:59:40</td>\n",
       "      <td>2022-12-10 04:07:27</td>\n",
       "      <td>1.0</td>\n",
       "      <td>1.99</td>\n",
       "      <td>1.0</td>\n",
       "      <td>N</td>\n",
       "      <td>24</td>\n",
       "      <td>236</td>\n",
       "      <td>1</td>\n",
       "      <td>...</td>\n",
       "      <td>2022</td>\n",
       "      <td>12</td>\n",
       "      <td>10</td>\n",
       "      <td>3</td>\n",
       "      <td>7</td>\n",
       "      <td>2022</td>\n",
       "      <td>12</td>\n",
       "      <td>10</td>\n",
       "      <td>4</td>\n",
       "      <td>7</td>\n",
       "    </tr>\n",
       "  </tbody>\n",
       "</table>\n",
       "<p>5 rows × 29 columns</p>\n",
       "</div>"
      ],
      "text/plain": [
       "   VendorID tpep_pickup_datetime tpep_dropoff_datetime  passenger_count  \\\n",
       "0         2  2022-12-03 19:14:47   2022-12-03 19:31:51              1.0   \n",
       "1         2  2022-12-01 11:55:12   2022-12-01 12:18:01              6.0   \n",
       "2         1  2022-12-12 15:54:24   2022-12-12 15:59:52              1.0   \n",
       "3         1  2022-12-20 05:34:23   2022-12-20 06:14:12              1.0   \n",
       "4         2  2022-12-10 03:59:40   2022-12-10 04:07:27              1.0   \n",
       "\n",
       "   trip_distance  RatecodeID store_and_fwd_flag  PULocationID  DOLocationID  \\\n",
       "0           3.37         1.0                  N           143           152   \n",
       "1           1.00         1.0                  N           100           230   \n",
       "2           1.90         1.0                  N           236            74   \n",
       "3           0.10        99.0                  N           242           242   \n",
       "4           1.99         1.0                  N            24           236   \n",
       "\n",
       "   payment_type  ...  pickup_year  pickup_month  pickup_day  pickup_hour  \\\n",
       "0             1  ...         2022            12           3           19   \n",
       "1             2  ...         2022            12           1           11   \n",
       "2             1  ...         2022            12          12           15   \n",
       "3             1  ...         2022            12          20            5   \n",
       "4             1  ...         2022            12          10            3   \n",
       "\n",
       "   pickup_day_of_week  dropoff_year  dropoff_month  dropoff_day  dropoff_hour  \\\n",
       "0                   7          2022             12            3            19   \n",
       "1                   5          2022             12            1            12   \n",
       "2                   2          2022             12           12            15   \n",
       "3                   3          2022             12           20             6   \n",
       "4                   7          2022             12           10             4   \n",
       "\n",
       "   dropoff_day_of_week  \n",
       "0                    7  \n",
       "1                    5  \n",
       "2                    2  \n",
       "3                    3  \n",
       "4                    7  \n",
       "\n",
       "[5 rows x 29 columns]"
      ]
     },
     "execution_count": 12,
     "metadata": {},
     "output_type": "execute_result"
    }
   ],
   "source": [
    "import dask\n",
    "import dask.dataframe as dd\n",
    "from dask_ml.model_selection import train_test_split\n",
    "from dask_ml.linear_model import LinearRegression\n",
    "\n",
    "# Load the data into a Dask DataFrame\n",
    "df_dask = dd.read_parquet('../data/yellow_tripdata_processed.parquet')\n",
    "df_dask.head()"
   ]
  },
  {
   "cell_type": "code",
   "execution_count": 14,
   "id": "105081e1",
   "metadata": {},
   "outputs": [
    {
     "name": "stderr",
     "output_type": "stream",
     "text": [
      "/home/jovyan/.local/lib/python3.10/site-packages/dask_ml/model_selection/_split.py:462: FutureWarning: The default value for 'shuffle' must be specified when splitting DataFrames. In the future DataFrames will automatically be shuffled within blocks prior to splitting. Specify 'shuffle=True' to adopt the future behavior now, or 'shuffle=False' to retain the previous behavior.\n",
      "  warnings.warn(\n"
     ]
    },
    {
     "name": "stdout",
     "output_type": "stream",
     "text": [
      "MSE: 52.71844897649518\n"
     ]
    }
   ],
   "source": [
    "# Prepare your data\n",
    "X = df_dask[['trip_distance']]\n",
    "y = df_dask['fare_amount']\n",
    "\n",
    "# Split your data into training and testing datasets\n",
    "X_train, X_test, y_train, y_test = train_test_split(X, y, test_size=0.2, random_state=42)\n",
    "\n",
    "\n",
    "# Create a linear regression model\n",
    "lr = LinearRegression()\n",
    "\n",
    "\n",
    "# Train your model\n",
    "lr.fit(X_train.values, y_train.values)\n",
    "\n",
    "# Predict on your test data\n",
    "y_pred = lr.predict(X_test.values)\n",
    "\n",
    "\n",
    "# Bring y_test and y_pred into memory\n",
    "y_test, y_pred = dask.compute(y_test, y_pred)\n",
    "\n",
    "# Check the model performance\n",
    "print(f'MSE: {mean_squared_error(y_test, y_pred)}')"
   ]
  },
  {
   "cell_type": "code",
   "execution_count": 15,
   "id": "8d465536",
   "metadata": {},
   "outputs": [
    {
     "name": "stdout",
     "output_type": "stream",
     "text": [
      "Time taken by Dask implementation:  1.6753323078155518 seconds\n"
     ]
    }
   ],
   "source": [
    "end_time = time.time()\n",
    "\n",
    "print('Time taken by Dask implementation: ', end_time - start_time, 'seconds')"
   ]
  },
  {
   "cell_type": "code",
   "execution_count": null,
   "id": "e8ddeff3",
   "metadata": {},
   "outputs": [],
   "source": []
  }
 ],
 "metadata": {
  "kernelspec": {
   "display_name": "Python [conda env:bigdata]",
   "language": "python",
   "name": "conda-env-bigdata-py"
  },
  "language_info": {
   "codemirror_mode": {
    "name": "ipython",
    "version": 3
   },
   "file_extension": ".py",
   "mimetype": "text/x-python",
   "name": "python",
   "nbconvert_exporter": "python",
   "pygments_lexer": "ipython3",
   "version": "3.10.9"
  }
 },
 "nbformat": 4,
 "nbformat_minor": 5
}
